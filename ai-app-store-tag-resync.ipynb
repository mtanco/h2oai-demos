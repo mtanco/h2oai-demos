{
 "cells": [
  {
   "cell_type": "markdown",
   "id": "daf69a6d-2d8a-49a9-bcd1-5ae89c9a63c4",
   "metadata": {},
   "source": [
    "# AI App Store: Tag Resync\n",
    "\n",
    "Using the Admin API, for each app version in the AI App Store, reassign all tags that are in its app.toml. This usually happens automatically, but occasionally tags get un-sunk when something goes wrong during an upgrade. "
   ]
  },
  {
   "cell_type": "code",
   "execution_count": null,
   "id": "ba807533-4afe-4ed2-a884-13cdbc84c226",
   "metadata": {},
   "outputs": [],
   "source": []
  }
 ],
 "metadata": {
  "kernelspec": {
   "display_name": "",
   "name": ""
  },
  "language_info": {
   "name": ""
  }
 },
 "nbformat": 4,
 "nbformat_minor": 5
}
